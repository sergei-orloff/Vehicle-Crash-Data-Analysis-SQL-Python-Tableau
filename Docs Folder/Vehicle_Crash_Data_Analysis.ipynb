{
 "cells": [
  {
   "cell_type": "markdown",
   "id": "824e93df-2660-46d0-aab8-7d9d3b5423a1",
   "metadata": {},
   "source": [
    "# Vehicle Crash Data Analysis: SQL, Python, Tableau.\n",
    "\n",
    "# Project Objective\n",
    "\n",
    "This project aims to analyze vehicle crash data to identify patterns, risk factors, and potential safety improvements through advanced SQL data analysis. The primary objectives are:\n",
    "\n",
    "1. To investigate the relationship between environmental conditions (road surface, weather, lighting) and crash severity\n",
    "2. To identify temporal patterns in crash occurrences across different months and conditions\n",
    "3. To analyze the correlation between citations issued and crash outcomes\n",
    "4. To develop a comprehensive risk assessment model for different driving conditions\n",
    "5. To provide data-driven recommendations for improving road safety, particularly in adverse weather conditions\n",
    "\n",
    "This analysis showcases SQL data manipulation and analysis techniques using MySQL, demonstrating proficiency in database design, query optimization, and statistical analysis. The findings from this project can potentially contribute to transportation safety policy and driver education programs in regions with similar climate challenges."
   ]
  },
  {
   "cell_type": "markdown",
   "id": "ca4c0a98-3d02-400a-8bc9-8963e5a3bfe0",
   "metadata": {},
   "source": [
    "***"
   ]
  },
  {
   "cell_type": "markdown",
   "id": "23e93e55-a0b2-464b-9bdf-c0e8229b40d3",
   "metadata": {},
   "source": [
    "### Data set description"
   ]
  },
  {
   "cell_type": "markdown",
   "id": "774fbb86-de98-49be-9878-a831daaa47fa",
   "metadata": {},
   "source": [
    "| Column Name               | Description                                                                 |\n",
    "| :------------------------ | :-------------------------------------------------------------------------- |\n",
    "| Report_number             | Unique state report number for the incident                                 |\n",
    "| Report_seq_no             | Sequence number for each vehicle involved in a crash                         |\n",
    "| DOT_Number                | Unique number assigned to a company by the DOT                               |\n",
    "| Report_Date               | The date an incident occurred                                                |\n",
    "| Report_State              | State abbreviation                                                            |\n",
    "| Fatalities                | Total number of fatalities reported in the crash                             |\n",
    "| Injuries                  | Total number of injuries reported in the crash                               |\n",
    "| Tow_Away                  | 'Y' indicates that a vehicle involved in the crash was towed from the scene.  |\n",
    "| Hazmat_released           | 'Y' indicates that hazardous materials were released at the time of a crash |\n",
    "| Trafficway_Desc           | Description of the trafficway                                               |\n",
    "| Access_Control_Desc       | Description of the access control                                           |\n",
    "| Road_surface_Condition_Desc | Description of the road surface condition                                   |\n",
    "| Weather_Condition_Desc    | Description of the weather condition                                        |\n",
    "| Light_Condition_Desc      | Description of the light condition                                          |\n",
    "| Vehicle_ID_Number         | Vehicle Identification number (VIN)                                         |\n",
    "| Vehicle_License_number    | Vehicle license number                                                        |\n",
    "| Vehicle_license_state     | Vehicle license state                                                         |\n",
    "| Severity_Weight           | The severity weight that is assigned to the incident                          |\n",
    "| Time_weight               | The time weight that is assigned to the incident                              |\n",
    "| citation_issue_desc       | Description of the citation issue                                           |\n",
    "| seq_num                   | Sequence number                                                             |\n",
    "| Not_Preventable           | Crashes with a “Y” in the Not Preventable Flag column are excluded from SMS |"
   ]
  },
  {
   "cell_type": "markdown",
   "id": "1ddbb21b-ab25-454f-9506-f6c02935f1e0",
   "metadata": {},
   "source": [
    "*** "
   ]
  },
  {
   "cell_type": "markdown",
   "id": "5dedec96-401b-4818-a496-1341e71e4bc5",
   "metadata": {},
   "source": [
    "### **Procedure for Extracting Initial Information and Basic Cleaning in MySQL Workbench**\n",
    "\n",
    "\n",
    "---\n",
    "\n",
    "Now that we have the raw data, we should follow a structured approach to explore and clean it. The dataset is named **\"2024oct_crash_full\"** and contains information about vehicle crashes.\n",
    "\n",
    "\n",
    "---\n",
    "## **Step 1: Understanding the Data Structure**\n",
    "\n",
    "Before making any changes, let's explore the dataset.\n",
    "\n",
    "\n",
    "### **1.1 Check the Structure of the Table**\n",
    "\n",
    "\n",
    "``` sql\n",
    "-- 1.1 Check the Structure of the Table\n",
    "\n",
    "DESCRIBE 2024oct_crash_full;\n",
    "\n",
    "```\n",
    "\n",
    "This will show the column names, data types, and whether they accept NULL values.\n",
    "\n",
    "\n",
    "### **1.2 Preview the First Few Rows**\n",
    "```SQL\n",
    "-- 1.2 Preview the First Few Rows\n",
    "SELECT * FROM 2024oct_crash_full LIMIT 10;\n",
    "```\n",
    "This helps us understand the type of data stored in each column.\n",
    "\n",
    "\n",
    "### **1.3 Count the Total Number of Rows**\n",
    "```sql\n",
    "-- 1.3 Count the Total Number of Rows\n",
    "SELECT COUNT(*) AS total_records \n",
    "FROM 2024oct_crash_full;\n",
    "```\n",
    "This provides an idea of the dataset’s size.\n",
    "\n",
    "\n",
    "### **1.4 Check for Duplicates**\n",
    "```sql\n",
    "-- 1.4 Check for Duplicates\n",
    "SELECT REPORT_NUMBER, COUNT(*)\n",
    "FROM 2024oct_crash_full\n",
    "GROUP BY REPORT_NUMBER, REPORT_SEQ_NO\n",
    "HAVING COUNT(*) > 1;\n",
    "```\n",
    "Duplicates can occur if the same crash is recorded multiple times.\n",
    "\n"
   ]
  },
  {
   "cell_type": "markdown",
   "id": "c13fe26b-0a65-47a7-af44-6bb6f3f12b0c",
   "metadata": {},
   "source": [
    "### 1.1 Check the Structure of the Table: ![Check the Structure of the Table](FIGURES/DESCRIBE_2024oct_crash_full.png)"
   ]
  },
  {
   "cell_type": "markdown",
   "id": "6707725d-ec38-4d3f-ac3a-138d670f1e8e",
   "metadata": {},
   "source": [
    "### 1.2 Preview the First Few Rows: ![1.2 Preview the First Few Rows](FIGURES/Preview_first_rows.png)"
   ]
  },
  {
   "cell_type": "markdown",
   "id": "6e907cb9-4d08-4178-b13d-be12e019b932",
   "metadata": {},
   "source": [
    "### 1.3 Count the Total Number of Rows: ![1.3 Count the Total Number of Rows](FIGURES/Number_of_Rows.png)"
   ]
  },
  {
   "cell_type": "markdown",
   "id": "1b3cdcde-a81d-40d2-9d91-98f23ad39e6b",
   "metadata": {},
   "source": [
    "### 1.4 Check for Duplicates: ![Check for Duplicates](FIGURES/Check_for_Duplicates.png)"
   ]
  },
  {
   "cell_type": "markdown",
   "id": "ad6898f8-161f-48e9-af9b-e382394ecd2a",
   "metadata": {},
   "source": [
    "*** "
   ]
  },
  {
   "cell_type": "markdown",
   "id": "f5c22c63-e22b-41a4-9e5d-1e72ac0fdcff",
   "metadata": {},
   "source": [
    "## **Step 2 - Cleaning and Data Preparation**"
   ]
  },
  {
   "cell_type": "markdown",
   "id": "54268fd1-2a07-4dbf-9572-6ea5312bbec7",
   "metadata": {},
   "source": [
    "\n",
    "\n",
    "### **2.1 Identifying and Handling Missing Data**\n"
   ]
  },
  {
   "cell_type": "markdown",
   "id": "a504d40f-2b45-4375-9f8a-9a2c8bf02342",
   "metadata": {},
   "source": [
    "#### Weather and Road Conditions"
   ]
  },
  {
   "cell_type": "markdown",
   "id": "5f096f13-0de7-4778-ac65-27f7cca67c5e",
   "metadata": {},
   "source": [
    "```sql\n",
    "-- 2.1 Check for NULL or Empty Values\n",
    "SELECT \n",
    "    COUNT(*) AS total_records,\n",
    "    SUM(CASE WHEN REPORT_NUMBER IS NULL OR REPORT_NUMBER = '' THEN 1 ELSE 0 END) AS missing_report_number,\n",
    "    SUM(CASE WHEN ROAD_SURFACE_CONDITION_DESC IS NULL OR ROAD_SURFACE_CONDITION_DESC = '' THEN 1 ELSE 0 END) AS missing_surface_condtn,\n",
    "    SUM(CASE WHEN REPORT_DATE IS NULL OR REPORT_DATE = '' THEN 1 ELSE 0 END) AS missing_report_date,\n",
    "    SUM(CASE WHEN REPORT_STATE IS NULL OR REPORT_STATE = '' THEN 1 ELSE 0 END) AS missing_report_state,\n",
    "    SUM(CASE WHEN WEATHER_CONDITION_DESC IS NULL OR WEATHER_CONDITION_DESC = '' THEN 1 ELSE 0 END) AS missing_weather,\n",
    "    SUM(CASE WHEN LIGHT_CONDITION_DESC IS NULL OR LIGHT_CONDITION_DESC = '' THEN 1 ELSE 0 END) AS missing_light_condtns,\n",
    "    SUM(CASE WHEN VEHICLE_LICENSE_NUMBER IS NULL OR VEHICLE_LICENSE_NUMBER = '' THEN 1 ELSE 0 END) AS missing_license_number\n",
    "FROM 2024oct_crash_full;\n",
    "\n",
    "-- 2.2 Replace missing or empty values for each field\n",
    "-- Disable safe update mode\n",
    "SET SQL_SAFE_UPDATES = 0;\n",
    "\n",
    "UPDATE 2024oct_crash_full\n",
    "SET REPORT_NUMBER = CASE WHEN REPORT_NUMBER IS NULL OR REPORT_NUMBER = '' THEN 'UNKNOWN' ELSE REPORT_NUMBER END,\n",
    "    ROAD_SURFACE_CONDITION_DESC = CASE WHEN ROAD_SURFACE_CONDITION_DESC IS NULL OR ROAD_SURFACE_CONDITION_DESC = '' THEN 'NOT SPECIFIED' ELSE ROAD_SURFACE_CONDITION_DESC END,\n",
    "    REPORT_DATE = CASE WHEN REPORT_DATE IS NULL OR REPORT_DATE = '' THEN '1900-01-01' ELSE REPORT_DATE END,\n",
    "    REPORT_STATE = CASE WHEN REPORT_STATE IS NULL OR REPORT_STATE = '' THEN 'UNKNOWN' ELSE REPORT_STATE END,\n",
    "    WEATHER_CONDITION_DESC = CASE WHEN WEATHER_CONDITION_DESC IS NULL OR WEATHER_CONDITION_DESC = '' THEN 'NOT SPECIFIED' ELSE WEATHER_CONDITION_DESC END,\n",
    "    LIGHT_CONDITION_DESC = CASE WHEN LIGHT_CONDITION_DESC IS NULL OR LIGHT_CONDITION_DESC = '' THEN 'NOT SPECIFIED' ELSE LIGHT_CONDITION_DESC END,\n",
    "    VEHICLE_LICENSE_NUMBER = CASE WHEN VEHICLE_LICENSE_NUMBER IS NULL OR VEHICLE_LICENSE_NUMBER = '' THEN 'N/A' ELSE VEHICLE_LICENSE_NUMBER END;\n",
    "\n",
    "-- Re-enable safe update mode\n",
    "SET SQL_SAFE_UPDATES = 1;\n",
    "\n",
    "-- CHECK if replaced\n",
    "SELECT REPORT_NUMBER, ROAD_SURFACE_CONDITION_DESC FROM 2024oct_crash_full\n",
    "WHERE ROAD_SURFACE_CONDITION_DESC IS NULL OR ROAD_SURFACE_CONDITION_DESC = '';\n",
    "```"
   ]
  },
  {
   "cell_type": "code",
   "execution_count": null,
   "id": "287e0991-8188-4e29-9a6f-009347eafa02",
   "metadata": {},
   "outputs": [],
   "source": []
  },
  {
   "cell_type": "markdown",
   "id": "240866fb-3ff2-464d-bd70-98329845c842",
   "metadata": {},
   "source": [
    "#### Injuries and Fatalities"
   ]
  },
  {
   "cell_type": "markdown",
   "id": "3cce8865-c49b-422d-afd7-417b7ef71eef",
   "metadata": {},
   "source": [
    "\n",
    "```sql\n",
    "-- 2.1 Check for NULL or Empty Values\n",
    "SELECT \n",
    "    COUNT(*) AS total_records,\n",
    "    SUM(CASE WHEN REPORT_NUMBER IS NULL OR REPORT_NUMBER = '' THEN 1 ELSE 0 END) AS missing_report_number,\n",
    "    SUM(CASE WHEN FATALITIES IS NULL OR FATALITIES = '' THEN 1 ELSE 0 END) AS NO_FATALITIES,\n",
    "    SUM(CASE WHEN INJURIES IS NULL OR INJURIES = '' THEN 1 ELSE 0 END) AS NO_INJURIES,\n",
    "    SUM(CASE WHEN TOW_AWAY IS NULL OR TOW_AWAY = '' THEN 1 ELSE 0 END) AS missing_TOW_AWAY,\n",
    "    SUM(CASE WHEN HAZMAT_RELEASED IS NULL OR HAZMAT_RELEASED = '' THEN 1 ELSE 0 END) AS missing_HAZMAT_RELEASED,\n",
    "    SUM(CASE WHEN SEVERITY_WEIGHT IS NULL OR SEVERITY_WEIGHT = '' THEN 1 ELSE 0 END) AS missing_SEVERITY_WEIGHT,\n",
    "    SUM(CASE WHEN VEHICLE_LICENSE_STATE IS NULL OR VEHICLE_LICENSE_STATE = '' THEN 1 ELSE 0 END) AS missing_VEHICLE_LICENSE_STATE\n",
    "FROM 2024oct_crash_full;\n",
    "\n",
    "-- 2.2 Replace missing or empty values for each field\n",
    "-- Disable safe update mode\n",
    "SET SQL_SAFE_UPDATES = 0;\n",
    "\n",
    "UPDATE 2024oct_crash_full\n",
    "SET \n",
    "\tREPORT_NUMBER = CASE WHEN REPORT_NUMBER IS NULL OR REPORT_NUMBER = '' THEN 'UNKNOWN' ELSE REPORT_NUMBER END,\n",
    "    FATALITIES = CASE WHEN FATALITIES IS NULL OR FATALITIES = '' THEN 0 ELSE FATALITIES END,\n",
    "    INJURIES = CASE WHEN INJURIES IS NULL OR INJURIES = '' THEN 0 ELSE INJURIES END,\n",
    "    TOW_AWAY = CASE WHEN TOW_AWAY IS NULL OR TOW_AWAY = '' THEN 'NO' ELSE TOW_AWAY END,\n",
    "\tHAZMAT_RELEASED = CASE WHEN HAZMAT_RELEASED IS NULL OR HAZMAT_RELEASED = '' THEN 'NO' ELSE HAZMAT_RELEASED END,\n",
    "    SEVERITY_WEIGHT = CASE WHEN SEVERITY_WEIGHT IS NULL OR SEVERITY_WEIGHT = '' THEN 0 ELSE SEVERITY_WEIGHT END,\n",
    "    VEHICLE_LICENSE_STATE = CASE WHEN VEHICLE_LICENSE_STATE IS NULL OR VEHICLE_LICENSE_STATE = '' THEN 'UNKNOWN' ELSE VEHICLE_LICENSE_STATE END,\n",
    "    VEHICLE_LICENSE_NUMBER = CASE WHEN VEHICLE_LICENSE_NUMBER IS NULL OR VEHICLE_LICENSE_NUMBER = '' THEN 'NO' ELSE VEHICLE_LICENSE_NUMBER END\n",
    "WHERE REPORT_NUMBER = '' OR FATALITIES IS NULL OR FATALITIES = '' OR INJURIES = '' \n",
    "   OR TOW_AWAY = '' OR HAZMAT_RELEASED = '' OR SEVERITY_WEIGHT = '' \n",
    "   OR VEHICLE_LICENSE_STATE = '' OR VEHICLE_LICENSE_NUMBER = '';\n",
    "\n",
    "-- Re-enable safe update mode\n",
    "SET SQL_SAFE_UPDATES = 1;\n",
    "```\n"
   ]
  },
  {
   "cell_type": "markdown",
   "id": "63b1b1d9-b5a2-4440-93a7-d3d949ba9b22",
   "metadata": {},
   "source": [
    "*** "
   ]
  },
  {
   "cell_type": "markdown",
   "id": "b44677b8-edc5-44bb-ad3f-e50f6e8ce913",
   "metadata": {},
   "source": [
    "### **2.2 Data Type Validation ana Conversion**"
   ]
  },
  {
   "cell_type": "markdown",
   "id": "5d6c6ecc-59e9-4c18-ae3b-fb7dd4ee226b",
   "metadata": {},
   "source": [
    "```sql\n",
    "-- Validate Date Formats\n",
    "\n",
    "SELECT REPORT_DATE FROM 2024oct_crash_full\n",
    "\n",
    "WHERE STR_TO_DATE(REPORT_DATE, '%d-%b-%y') IS NULL;\n",
    "\n",
    "If invalid dates are found, we need to correct them.\n",
    "\n",
    "\n",
    "-- Convert Report Date to Proper Format\n",
    "\n",
    "UPDATE 2024oct_crash_full\n",
    "\n",
    "SET REPORT_DATE = STR_TO_DATE(REPORT_DATE, '%d-%b-%y');\n",
    "```\n"
   ]
  },
  {
   "cell_type": "code",
   "execution_count": null,
   "id": "e16ab037-30e1-42c9-8ef5-1810f102992c",
   "metadata": {},
   "outputs": [],
   "source": []
  },
  {
   "cell_type": "markdown",
   "id": "98299f72-cd01-4128-ad21-a608067e96b6",
   "metadata": {},
   "source": [
    "```sql\n",
    "-- Check the correct REPORT_STATE format\n",
    "\n",
    "SELECT DISTINCT REPORT_NUMBER, REPORT_STATE\n",
    "FROM 2024oct_crash_full\n",
    "WHERE REPORT_STATE NOT IN (\n",
    "    'AL', 'AK', 'AZ', 'AR', 'DC', 'CA', 'CO', 'CT', 'DE', 'FL', 'GA', \n",
    "    'HI', 'ID', 'IL', 'IN', 'IA', 'KS', 'KY', 'LA', 'ME', 'MD', \n",
    "    'MA', 'MI', 'MN', 'MS', 'MO', 'MT', 'NE', 'NV', 'NH', 'NJ', \n",
    "    'NM', 'NY', 'NC', 'ND', 'OH', 'OK', 'OR', 'PA', 'RI', 'SC', \n",
    "    'SD', 'TN', 'TX', 'UT', 'VT', 'VA', 'WA', 'WV', 'WI', 'WY'\n",
    ");\n",
    "\n",
    "-- Validate Date Formats\n",
    "SELECT REPORT_DATE FROM 2024oct_crash_full \n",
    "WHERE STR_TO_DATE(REPORT_DATE, '%d-%b-%y') IS NULL;\n",
    "\n",
    "-- ................................................\n",
    "-- Convert Report Date to Proper Format\n",
    "-- Disable safe update mode\n",
    "SET SQL_SAFE_UPDATES = 0;\n",
    "\n",
    "UPDATE 2024oct_crash_full\n",
    "SET REPORT_DATE = STR_TO_DATE(REPORT_DATE, '%d-%b-%y');\n",
    "\n",
    "-- Re-enable safe update mode\n",
    "SET SQL_SAFE_UPDATES = 1;\n",
    "```"
   ]
  },
  {
   "cell_type": "markdown",
   "id": "16b8341f-d3c1-4738-90ab-eba6aeeb4ea4",
   "metadata": {},
   "source": [
    "*** "
   ]
  },
  {
   "cell_type": "markdown",
   "id": "638d26f3-979a-4c8f-9e6f-f38586fc7c90",
   "metadata": {},
   "source": [
    "### **2.3 Standardizing Data**"
   ]
  },
  {
   "cell_type": "markdown",
   "id": "83f330de-c8c4-4174-92ee-66b51143dd54",
   "metadata": {},
   "source": [
    "**Purpose**:\n",
    "   - The `TRIM` function ensures no leading or trailing whitespace exists in any field, standardizing data and reducing errors.\n"
   ]
  },
  {
   "cell_type": "markdown",
   "id": "1098d3ff-752b-4c7c-abb7-7b1ff4d92a3f",
   "metadata": {},
   "source": [
    "```sql\n",
    "-- Trim Extra Spaces\n",
    "\n",
    "-- Disable safe update mode\n",
    "SET SQL_SAFE_UPDATES = 0;\n",
    "\n",
    "UPDATE 2024oct_crash_full\n",
    "SET \n",
    "    REPORT_NUMBER = TRIM(REPORT_NUMBER),\n",
    "    REPORT_STATE = TRIM(REPORT_STATE),\n",
    "    WEATHER_CONDITION_DESC = TRIM(WEATHER_CONDITION_DESC),\n",
    "    ROAD_SURFACE_CONDITION_DESC = TRIM(ROAD_SURFACE_CONDITION_DESC),\n",
    "    LIGHT_CONDITION_DESC = TRIM(LIGHT_CONDITION_DESC),\n",
    "    VEHICLE_LICENSE_NUMBER = TRIM(VEHICLE_LICENSE_NUMBER),\n",
    "    FATALITIES = TRIM(FATALITIES),\n",
    "    INJURIES = TRIM(INJURIES),\n",
    "    TOW_AWAY = TRIM(TOW_AWAY),\n",
    "    HAZMAT_RELEASED = TRIM(HAZMAT_RELEASED),\n",
    "    SEVERITY_WEIGHT = TRIM(SEVERITY_WEIGHT),\n",
    "    VEHICLE_LICENSE_STATE = TRIM(VEHICLE_LICENSE_STATE),\n",
    "    REPORT_DATE = TRIM(REPORT_DATE);\n",
    "\n",
    "-- Re-enable safe update mode\n",
    "SET SQL_SAFE_UPDATES = 1;\n",
    "```"
   ]
  },
  {
   "cell_type": "markdown",
   "id": "3cefa5c0-289f-435e-ab5b-7f805f6be114",
   "metadata": {},
   "source": [
    "*** "
   ]
  },
  {
   "cell_type": "markdown",
   "id": "d7e5e162-4147-4864-9134-714c87b7906e",
   "metadata": {},
   "source": [
    "### **2.4 Handling Duplicates**"
   ]
  },
  {
   "cell_type": "markdown",
   "id": "f0a80953-0989-49e5-bee5-30c7c1277d7a",
   "metadata": {},
   "source": [
    "**Purpose:**\n",
    "- If duplicate vehicle records exist, we might need to handle them based on additional columns.\n"
   ]
  },
  {
   "cell_type": "markdown",
   "id": "4acade90-4117-43ce-a424-1d6734cd3966",
   "metadata": {},
   "source": [
    "\n",
    "```sql\n",
    "-- The vehicles involved in more than 1 crash:\n",
    "\n",
    "SELECT \n",
    "    VEHICLE_LICENSE_NUMBER, VEHICLE_LICENSE_STATE,\n",
    "    COUNT(*) AS ACCIDENTS,\n",
    "    MAX(REPORT_DATE) AS LATEST_REPORT_DATE,\n",
    "    MAX(REPORT_STATE) AS LATEST_REPORT_STATE\n",
    "FROM 2024oct_crash_full\n",
    "GROUP BY VEHICLE_LICENSE_NUMBER, VEHICLE_LICENSE_STATE\n",
    "HAVING COUNT(*) > 1\n",
    "ORDER BY ACCIDENTS DESC;\n",
    "```"
   ]
  },
  {
   "cell_type": "markdown",
   "id": "6d1ce3d9-0452-4137-a938-647ccd299c06",
   "metadata": {},
   "source": [
    "### Handling Duplicates:  ![Handling Duplicates](FIGURES/Handling_Duplicates.png)"
   ]
  },
  {
   "cell_type": "markdown",
   "id": "0f6aca41-d3c8-4446-a51a-c9f30a9a2a9b",
   "metadata": {},
   "source": [
    "*** "
   ]
  },
  {
   "cell_type": "markdown",
   "id": "dc6ef242-c639-484c-b8e0-63a36e1612cb",
   "metadata": {},
   "source": [
    "## Step 3 - Summary Statistics: Initial Insights"
   ]
  },
  {
   "cell_type": "markdown",
   "id": "5296e78e-b4c2-41c4-8e77-920b2bcda50a",
   "metadata": {},
   "source": [
    "\n",
    "```sql\n",
    "\n",
    "-- 1. This provides an overview of the dataset.\n",
    "\n",
    "SELECT \n",
    "    COUNT(*) AS total_crashes,\n",
    "    COUNT(DISTINCT REPORT_NUMBER) AS total_accidents, -- There may be more than one vehicle involved.\n",
    "    COUNT(DISTINCT REPORT_STATE) AS unique_states,\n",
    "    COUNT(DISTINCT VEHICLE_LICENSE_NUMBER) AS unique_vehicles\n",
    "FROM 2024oct_crash_full;\n",
    "\n",
    "-- ========================\n",
    "\n",
    "-- 2. Number of crashes by state\n",
    "SELECT \n",
    "    REPORT_STATE,\n",
    "    COUNT(DISTINCT REPORT_NUMBER) AS accident_count\n",
    "FROM 2024oct_crash_full\n",
    "WHERE REPORT_STATE IN (\n",
    "    'AL', 'AK', 'AZ', 'AR', 'CA', 'CO', 'CT', 'DE', 'FL', 'GA', \n",
    "    'HI', 'ID', 'IL', 'IN', 'IA', 'KS', 'KY', 'LA', 'ME', 'MD', \n",
    "    'MA', 'MI', 'MN', 'MS', 'MO', 'MT', 'NE', 'NV', 'NH', 'NJ', \n",
    "    'NM', 'NY', 'NC', 'ND', 'OH', 'OK', 'OR', 'PA', 'RI', 'SC', \n",
    "    'SD', 'TN', 'TX', 'UT', 'VT', 'VA', 'WA', 'WV', 'WI', 'WY', 'DC'\n",
    ")\n",
    "GROUP BY REPORT_STATE\n",
    "ORDER BY accident_count DESC;\n",
    "```"
   ]
  },
  {
   "cell_type": "markdown",
   "id": "1970f455-1dfd-4b0a-a95f-fc7cad743ed1",
   "metadata": {},
   "source": [
    "### The overview of the dataset:  ![The overview of the dataset](FIGURES/overview-of_dataset.png)"
   ]
  },
  {
   "cell_type": "markdown",
   "id": "f18abb37-490a-42ff-8950-eb31e651ec0a",
   "metadata": {},
   "source": [
    "### Number of crashes by state ![Number of crashes by state](FIGURES/Number_crashes_by_state.png)"
   ]
  },
  {
   "cell_type": "markdown",
   "id": "196fa234-1ffb-479b-a756-874dd2bdbabf",
   "metadata": {},
   "source": [
    "*** "
   ]
  },
  {
   "cell_type": "markdown",
   "id": "8b3d9c68-f166-4346-b11b-bb1884c99c32",
   "metadata": {},
   "source": [
    "*** "
   ]
  },
  {
   "cell_type": "markdown",
   "id": "c2ec15e4-4196-4645-a4e4-f31271dd42a4",
   "metadata": {},
   "source": [
    "# Exploratory Data Analysis"
   ]
  },
  {
   "cell_type": "markdown",
   "id": "6495ffa0-f41f-4298-b132-30d7d9cf988e",
   "metadata": {},
   "source": [
    "## **1. Crash Hotspots by State**\n",
    ">**Objective:** Identify which states have the highest number of trucking-related incidents."
   ]
  },
  {
   "cell_type": "markdown",
   "id": "2552a10f-adbb-4501-9235-eabedd3e1b62",
   "metadata": {},
   "source": [
    "**Business Value:**\n",
    "- Helps optimize route planning by avoiding accident-prone areas.\n",
    "- Allows for insurance risk assessment, adjusting policies based on state-specific risks.\n"
   ]
  },
  {
   "cell_type": "markdown",
   "id": "dcdc9b6b-4a9c-4253-909c-dd79defb7e30",
   "metadata": {},
   "source": [
    "I modified the query to handle the different state formats. Since one table uses state abbreviations (like AL, AK) and the other uses full state names (like Alabama, Alaska), we need to join them using a *mapping* between the two formats:"
   ]
  },
  {
   "cell_type": "markdown",
   "id": "85e8b0e5-fa35-42eb-9965-f0fc859bbaa8",
   "metadata": {},
   "source": [
    "```sql\n",
    "-- Normalize crashes per 1,000 people for better risk assessment:\n",
    "SELECT c.REPORT_STATE, (COUNT(*) / p.Population) * 1000 AS crashes_per_1000_people\n",
    "FROM 2024oct_crash_full c\n",
    "JOIN population_by_state_oct24 p ON \n",
    "    CASE c.REPORT_STATE\n",
    "        WHEN 'AL' THEN 'Alabama'\n",
    "        WHEN 'AK' THEN 'Alaska'\n",
    "        WHEN 'AZ' THEN 'Arizona'\n",
    "        WHEN 'AR' THEN 'Arkansas'\n",
    "        WHEN 'CA' THEN 'California'\n",
    "        WHEN 'CO' THEN 'Colorado'\n",
    "        WHEN 'CT' THEN 'Connecticut'\n",
    "        WHEN 'DE' THEN 'Delaware'\n",
    "        WHEN 'FL' THEN 'Florida'\n",
    "        WHEN 'GA' THEN 'Georgia'\n",
    "        WHEN 'HI' THEN 'Hawaii'\n",
    "        WHEN 'ID' THEN 'Idaho'\n",
    "        WHEN 'IL' THEN 'Illinois'\n",
    "        WHEN 'IN' THEN 'Indiana'\n",
    "        WHEN 'IA' THEN 'Iowa'\n",
    "        WHEN 'KS' THEN 'Kansas'\n",
    "        WHEN 'KY' THEN 'Kentucky'\n",
    "        WHEN 'LA' THEN 'Louisiana'\n",
    "        WHEN 'ME' THEN 'Maine'\n",
    "        WHEN 'MD' THEN 'Maryland'\n",
    "        WHEN 'MA' THEN 'Massachusetts'\n",
    "        WHEN 'MI' THEN 'Michigan'\n",
    "        WHEN 'MN' THEN 'Minnesota'\n",
    "        WHEN 'MS' THEN 'Mississippi'\n",
    "        WHEN 'MO' THEN 'Missouri'\n",
    "        WHEN 'MT' THEN 'Montana'\n",
    "        WHEN 'NE' THEN 'Nebraska'\n",
    "        WHEN 'NV' THEN 'Nevada'\n",
    "        WHEN 'NH' THEN 'New Hampshire'\n",
    "        WHEN 'NJ' THEN 'New Jersey'\n",
    "        WHEN 'NM' THEN 'New Mexico'\n",
    "        WHEN 'NY' THEN 'New York'\n",
    "        WHEN 'NC' THEN 'North Carolina'\n",
    "        WHEN 'ND' THEN 'North Dakota'\n",
    "        WHEN 'OH' THEN 'Ohio'\n",
    "        WHEN 'OK' THEN 'Oklahoma'\n",
    "        WHEN 'OR' THEN 'Oregon'\n",
    "        WHEN 'PA' THEN 'Pennsylvania'\n",
    "        WHEN 'RI' THEN 'Rhode Island'\n",
    "        WHEN 'SC' THEN 'South Carolina'\n",
    "        WHEN 'SD' THEN 'South Dakota'\n",
    "        WHEN 'TN' THEN 'Tennessee'\n",
    "        WHEN 'TX' THEN 'Texas'\n",
    "        WHEN 'UT' THEN 'Utah'\n",
    "        WHEN 'VT' THEN 'Vermont'\n",
    "        WHEN 'VA' THEN 'Virginia'\n",
    "        WHEN 'WA' THEN 'Washington'\n",
    "        WHEN 'WV' THEN 'West Virginia'\n",
    "        WHEN 'WI' THEN 'Wisconsin'\n",
    "        WHEN 'WY' THEN 'Wyoming'\n",
    "        WHEN 'DC' THEN 'District of Columbia'\n",
    "    END = p.State\n",
    "GROUP BY c.REPORT_STATE, p.Population\n",
    "ORDER BY crashes_per_1000_people DESC;\n",
    "```"
   ]
  },
  {
   "cell_type": "markdown",
   "id": "8049c58c-a73e-482c-9197-f8e73ef3a210",
   "metadata": {},
   "source": [
    "This query uses a `CASE` statement to map the state abbreviations from the `2024oct_crash_full` table to the full state names used in the `population_by_state_oct24` table. I've also added table aliases (`c` and `p`) to make the query more readable.\n",
    "I've multiplied the original crashes_per_capita by 1000 to get crashes per 1,000 people and named the column to reflect this change. This metric is more intuitive and commonly used in safety and transportation statistics."
   ]
  },
  {
   "cell_type": "markdown",
   "id": "4b9cae0a-c4f6-45bd-a793-ecc43a0e09d5",
   "metadata": {},
   "source": [
    "### Crash Hotspots by State: ![Crash Hotspots by State](FIGURES/Analysis_normalized_crashes_by_state.png)"
   ]
  },
  {
   "cell_type": "markdown",
   "id": "82094e2a-6433-4ff8-a37f-133cb3240cba",
   "metadata": {},
   "source": [
    "***"
   ]
  },
  {
   "cell_type": "markdown",
   "id": "727dd6de-24ce-403d-a600-08983ba0339a",
   "metadata": {},
   "source": [
    "## **2. Crash Pattern Analysis by Date and Season**\n",
    ">**Objective:** Identify crash trends based on time of year, days of the week, and seasonality.\n"
   ]
  },
  {
   "cell_type": "markdown",
   "id": "4526164d-0fb6-4e26-9904-50445ae7983f",
   "metadata": {},
   "source": [
    "**Business Value:**\n",
    "- Helps trucking companies plan driver schedules to avoid high-risk periods.\n",
    "- Improves seasonal preparedness by reinforcing safety protocols during hazardous months.\n"
   ]
  },
  {
   "cell_type": "markdown",
   "id": "f1d95ad5-e8fb-4e27-a785-35f04ac09888",
   "metadata": {},
   "source": [
    "#### **2.1 Detailed Day-of-Week Analysis with Time of Day**\n"
   ]
  },
  {
   "cell_type": "markdown",
   "id": "55376800-de29-48c7-b750-e6c31b7ae307",
   "metadata": {},
   "source": [
    "```sql\n",
    "-- Detailed Day-of-Week Analysis with Time of Day\n",
    "\n",
    "SELECT \n",
    "    DATE_FORMAT(CAST(Report_Date AS DATE), '%W') AS day_of_week,\n",
    "    LIGHT_CONDITION_DESC,\n",
    "    COUNT(*) as incident_count,\n",
    "    ROUND(COUNT(*) * 100.0 / SUM(COUNT(*)) OVER (PARTITION BY DATE_FORMAT(CAST(Report_Date AS DATE), '%W')), 2) as day_percentage\n",
    "FROM 2024oct_crash_full\n",
    "GROUP BY \n",
    "    day_of_week,\n",
    "    LIGHT_CONDITION_DESC\n",
    "ORDER BY \n",
    "    FIELD(day_of_week, \n",
    "          'Monday', 'Tuesday', 'Wednesday', 'Thursday', 'Friday', 'Saturday', 'Sunday'),\n",
    "    incident_count DESC;\n",
    "    \n",
    "```"
   ]
  },
  {
   "cell_type": "markdown",
   "id": "02873c74-3e0f-4e6a-aa8f-70200e2d2d5a",
   "metadata": {},
   "source": [
    "### Crash Pattern Analysis by day of the week: ![Crash Pattern Analysis by day of the week](FIGURES/Analysis_Day_of_Week.png)"
   ]
  },
  {
   "cell_type": "markdown",
   "id": "226f3314-f542-4e31-aafe-de10a751097b",
   "metadata": {},
   "source": [
    "#### **2.2 Crash Pattern by Month**\n",
    "> The SQL query to find the **busiest months** for incidents:"
   ]
  },
  {
   "cell_type": "markdown",
   "id": "1fd43df8-cdfb-4168-a13e-42e028317f2a",
   "metadata": {},
   "source": [
    "```sql\n",
    "-- Find the busiest months for incidents:\n",
    "\n",
    "SELECT \n",
    "    MONTH(CAST(Report_Date AS DATE)) AS crash_month,\n",
    "    DATE_FORMAT(CAST(Report_Date AS DATE), '%M') AS month_name,\n",
    "    COUNT(*) AS total_crashes\n",
    "FROM 2024oct_crash_full\n",
    "GROUP BY \n",
    "    MONTH(CAST(Report_Date AS DATE)),\n",
    "    DATE_FORMAT(CAST(Report_Date AS DATE), '%M')\n",
    "ORDER BY \n",
    "    total_crashes DESC,\n",
    "    crash_month;\n",
    "```"
   ]
  },
  {
   "cell_type": "markdown",
   "id": "89861610-91f6-403a-a4ba-b187909df3fc",
   "metadata": {},
   "source": [
    "> This gives you a clear view of which months had the **most incidents**, with both the numeric month and month name for easy reference."
   ]
  },
  {
   "cell_type": "markdown",
   "id": "68fe4d2e-7a5a-4915-92ec-98f4f83bbf28",
   "metadata": {},
   "source": [
    "### Crash Pattern Analysis by month ![Crash Pattern Analysis by month](FIGURES/Analysis_Crash_by_month.png)"
   ]
  },
  {
   "cell_type": "markdown",
   "id": "7be65785-3e84-4bc6-84df-d81e9925dbe3",
   "metadata": {},
   "source": [
    "#### **2.3 Monthly Trend Analysis for Seasonal Planning**\n"
   ]
  },
  {
   "cell_type": "markdown",
   "id": "019d242d-b5f2-4c8d-bb54-38d78f3ded98",
   "metadata": {},
   "source": [
    "```sql\n",
    "-- Monthly Trend Analysis for Seasonal Planning\n",
    "\n",
    "SELECT \n",
    "    DATE_FORMAT(CAST(Report_Date AS DATE), '%M') AS month,\n",
    "    CASE \n",
    "        WHEN WEEKDAY(CAST(Report_Date AS DATE)) IN (5,6) THEN 'Weekend'\n",
    "        ELSE 'Weekday'\n",
    "    END AS day_type,\n",
    "    COUNT(*) as crash_count,\n",
    "    WEATHER_CONDITION_DESC,\n",
    "    ROAD_SURFACE_CONDITION_DESC,\n",
    "    LIGHT_CONDITION_DESC\n",
    "FROM 2024oct_crash_full\n",
    "GROUP BY \n",
    "    month,\n",
    "    day_type,\n",
    "    WEATHER_CONDITION_DESC,\n",
    "    ROAD_SURFACE_CONDITION_DESC,\n",
    "    LIGHT_CONDITION_DESC\n",
    "ORDER BY \n",
    "    month,\n",
    "    day_type,\n",
    "    crash_count DESC;\n",
    "```\n"
   ]
  },
  {
   "cell_type": "markdown",
   "id": "dbe0a9e5-467d-407e-b215-02b7fe77f0a0",
   "metadata": {},
   "source": [
    "### Monthly Trend Analysis for Seasonal Planning  ![Monthly Trend Analysis for Seasonal Planning](FIGURES/Analysis_Monthly_Trend_Seasonal_Planning.png)"
   ]
  },
  {
   "cell_type": "markdown",
   "id": "e23a6353-2fb2-46a5-aafe-5b6577a3d4ad",
   "metadata": {},
   "source": [
    "#### **2.4 Weekday vs. Weekend Crashes with Road Conditions**\n",
    "> **Objective:** Identify **high-risk days** (weekends vs. weekdays):"
   ]
  },
  {
   "cell_type": "markdown",
   "id": "f27adf2d-5ead-4989-861d-2c2fbcb928bf",
   "metadata": {},
   "source": [
    "```sql\n",
    "-- Weekday vs Weekend Crashes with Road Conditions\n",
    "\n",
    "SELECT \n",
    "    CASE \n",
    "        WHEN WEEKDAY(CAST(Report_Date AS DATE)) IN (5,6) THEN 'Weekend'\n",
    "        ELSE 'Weekday'\n",
    "    END AS day_type,\n",
    "    ROAD_SURFACE_CONDITION_DESC,\n",
    "    COUNT(*) as crash_count,\n",
    "    ROUND(COUNT(*) * 100.0 / SUM(COUNT(*)) OVER (PARTITION BY CASE \n",
    "        WHEN WEEKDAY(CAST(Report_Date AS DATE)) IN (5,6) THEN 'Weekend'\n",
    "        ELSE 'Weekday'\n",
    "    END), 2) as percentage\n",
    "FROM 2024oct_crash_full\n",
    "GROUP BY \n",
    "    day_type,\n",
    "    ROAD_SURFACE_CONDITION_DESC\n",
    "ORDER BY \n",
    "    day_type,\n",
    "    crash_count DESC;\n",
    "    ```"
   ]
  },
  {
   "cell_type": "markdown",
   "id": "a0cf0478-807c-42dd-9fb7-7ee8008d05c7",
   "metadata": {},
   "source": [
    "### Weekdays vs. weekends vs. road conditions  ![Weekdays vs. weekends vs. road ](FIGURES/Analysis_weekdays_vs_weekends_vs_road_conditions.png)"
   ]
  },
  {
   "cell_type": "markdown",
   "id": "70a98149-f976-4942-b5d2-965227dad2d8",
   "metadata": {},
   "source": [
    "#### **2.5 Daily Number of Crashes by State**"
   ]
  },
  {
   "cell_type": "markdown",
   "id": "02a8e8c5-5c1b-4583-aaee-a85f1a5b0e24",
   "metadata": {},
   "source": [
    "```sql\n",
    "-- All states the daily number of crashes\n",
    "\n",
    "SELECT REPORT_DATE, count(REPORT_NUMBER) as All_States_num_of_crashes\n",
    "FROM 2024oct_crash_full\n",
    "GROUP BY REPORT_DATE\n",
    "ORDER BY REPORT_DATE\n",
    ";"
   ]
  },
  {
   "cell_type": "markdown",
   "id": "6c3335f6-9ba7-49c9-a106-ec376f5d32d6",
   "metadata": {},
   "source": [
    "### All states daily number of crashes  ![All states daily number of crashes](FIGURES/Analysis_daily_number_crashes.png)"
   ]
  },
  {
   "cell_type": "markdown",
   "id": "9e84e27d-6ced-49ee-81c2-5dd011c7e719",
   "metadata": {},
   "source": [
    "\n",
    "#### **2.6 Compare day vs. night crash rates**\n",
    "```sql\n",
    " SELECT \n",
    "    CASE \n",
    "        WHEN Light_Condition_Desc LIKE 'Dark%' THEN 'Night'\n",
    "        ELSE 'Day'\n",
    "    END AS time_of_day, \n",
    "    COUNT(*) AS total_crashes\n",
    "FROM 2024oct_crash_full\n",
    "GROUP BY time_of_day;"
   ]
  },
  {
   "cell_type": "markdown",
   "id": "753c9147-a846-4bef-b6d0-4c3f80d94905",
   "metadata": {},
   "source": [
    "### Day vs. night crash rates  ![Day vs. night crash rates](FIGURES/Analysis_day_vs_night_crashes.png)"
   ]
  },
  {
   "cell_type": "markdown",
   "id": "0052979f-c50a-4aab-9548-e4d102538109",
   "metadata": {},
   "source": [
    "***"
   ]
  },
  {
   "cell_type": "markdown",
   "id": "0a32e860-81af-48e7-a3da-c03b1b6426c0",
   "metadata": {},
   "source": [
    "## **3. Impact of Road Surface Conditions on Accidents**\n",
    ">**Objective:** Determine how road conditions affect crash frequency and severity.\n"
   ]
  },
  {
   "cell_type": "markdown",
   "id": "a992304e-c7ef-4fc5-998a-5ec48f3a957b",
   "metadata": {},
   "source": [
    "```sql\n",
    "-- Identify the most dangerous road conditions:\n",
    "\n",
    "SELECT Road_surface_Condition_Desc, COUNT(*) AS total_crashes\n",
    "FROM 2024oct_crash_full\n",
    "GROUP BY Road_surface_Condition_Desc\n",
    "ORDER BY total_crashes DESC;\n",
    "```"
   ]
  },
  {
   "cell_type": "markdown",
   "id": "0c4c54b8-a7a4-4483-a3f5-eb64e81f6ba8",
   "metadata": {},
   "source": [
    "### Impact of Road Surface Conditions  ![Impact of Road Surface Conditions](FIGURES/Analysis_impact_road_conditions.png)"
   ]
  },
  {
   "cell_type": "markdown",
   "id": "79832644-042f-4685-afff-8e077a861822",
   "metadata": {},
   "source": [
    "**Business Value:**\n",
    "- Helps improve driver training on handling dangerous road conditions.\n",
    "- Supports predictive maintenance decisions (e.g., using better tires in icy regions).\n"
   ]
  },
  {
   "cell_type": "markdown",
   "id": "8daa9676-2c3e-48ac-ad2f-17abb02e01a7",
   "metadata": {},
   "source": [
    "***"
   ]
  },
  {
   "cell_type": "markdown",
   "id": "84787299-ec99-4789-8d32-ccb7efef5821",
   "metadata": {},
   "source": [
    "\n",
    "## **4. Weather Conditions & Crash Risk**\n",
    "\n",
    ">**Objective:** Identify how different weather conditions contribute to accidents.\n"
   ]
  },
  {
   "cell_type": "markdown",
   "id": "78bdf8eb-e1ee-496e-908a-ac51c888fbf8",
   "metadata": {},
   "source": [
    "**Business Value:**\n",
    "- Enables proactive safety measures (e.g., slowing down in foggy areas).\n",
    "- Helps in fleet management, advising drivers to reroute in dangerous weather.\n"
   ]
  },
  {
   "cell_type": "markdown",
   "id": "719dc06d-e8de-4e99-8512-5301f0f8ebd2",
   "metadata": {},
   "source": [
    "#### **4.1 Impact of light conditions**"
   ]
  },
  {
   "cell_type": "markdown",
   "id": "04622987-26d3-4502-ac65-1965887e1172",
   "metadata": {},
   "source": [
    "```sql\n",
    "SELECT LIGHT_CONDITION_DESC, COUNT(*) AS total_light_crashes\n",
    "FROM 2024oct_crash_full\n",
    "GROUP BY LIGHT_CONDITION_DESC\n",
    "ORDER BY total_light_crashes DESC;"
   ]
  },
  {
   "cell_type": "markdown",
   "id": "094b92f9-1066-4e58-a589-3594092f113d",
   "metadata": {},
   "source": [
    "### Impact of light condtns  ![Impact of light condtns](FIGURES/Analysis_impact_light_conditions.png)"
   ]
  },
  {
   "cell_type": "markdown",
   "id": "bd7289ab-1fee-4856-8cbc-e8142c97f2ab",
   "metadata": {},
   "source": [
    "#### **4.2 Rank weather conditions by crash frequency**"
   ]
  },
  {
   "cell_type": "markdown",
   "id": "587134d9-61c7-4a32-8c6f-17747f6b601a",
   "metadata": {},
   "source": [
    "```sql\n",
    "SELECT Weather_Condition_Desc, COUNT(*) AS total_crashes\n",
    "FROM 2024oct_crash_full\n",
    "GROUP BY Weather_Condition_Desc\n",
    "ORDER BY total_crashes DESC;\n"
   ]
  },
  {
   "cell_type": "markdown",
   "id": "43202150-de2e-4dee-8be2-43488250fb6e",
   "metadata": {},
   "source": [
    "### Rank weather conditions by crash frequency  ![Rank weather conditions by crash frequency](FIGURES/Analysis_rank_conditions_weather.png)"
   ]
  },
  {
   "cell_type": "markdown",
   "id": "23c6ed7d-4d59-4061-89f0-143601b5e17d",
   "metadata": {},
   "source": [
    "#### **4.3 Combine with road surface conditions for deeper insights**"
   ]
  },
  {
   "cell_type": "markdown",
   "id": "d247978f-78f0-4590-ba69-018502c77d2f",
   "metadata": {},
   "source": [
    "```sql\n",
    "SELECT Weather_Condition_Desc, Road_surface_Condition_Desc, COUNT(*) AS total_crashes\n",
    "FROM 2024oct_crash_full\n",
    "GROUP BY Weather_Condition_Desc, Road_surface_Condition_Desc\n",
    "ORDER BY total_crashes DESC;\n"
   ]
  },
  {
   "cell_type": "markdown",
   "id": "b68d4048-d775-4029-b95f-ba3b88b1c73e",
   "metadata": {},
   "source": [
    "### Combine weather with road surface conditions  ![Combine weather with road surface conditions](FIGURES/Analysis_weather_combined_road_surface.png)"
   ]
  },
  {
   "cell_type": "markdown",
   "id": "a8e843b3-eabd-4793-8110-13fbc1dfda20",
   "metadata": {},
   "source": [
    "  ![Data Flow Diagram](assets/data_flow.png)"
   ]
  },
  {
   "cell_type": "code",
   "execution_count": null,
   "id": "46eb26af-b303-4769-a013-e3c198d0c270",
   "metadata": {},
   "outputs": [],
   "source": []
  }
 ],
 "metadata": {
  "kernelspec": {
   "display_name": "Python 3 (ipykernel)",
   "language": "python",
   "name": "python3"
  },
  "language_info": {
   "codemirror_mode": {
    "name": "ipython",
    "version": 3
   },
   "file_extension": ".py",
   "mimetype": "text/x-python",
   "name": "python",
   "nbconvert_exporter": "python",
   "pygments_lexer": "ipython3",
   "version": "3.12.7"
  }
 },
 "nbformat": 4,
 "nbformat_minor": 5
}
